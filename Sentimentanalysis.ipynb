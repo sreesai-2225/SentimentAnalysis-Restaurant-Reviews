{
 "cells": [
  {
   "cell_type": "code",
   "execution_count": 70,
   "id": "0c3db09b-173b-4887-9efb-071849620f71",
   "metadata": {},
   "outputs": [
    {
     "name": "stdout",
     "output_type": "stream",
     "text": [
      "Requirement already satisfied: numpy in c:\\users\\srisa\\desktop\\nlp project\\sentimentanalysis\\lib\\site-packages (1.26.4)\n"
     ]
    },
    {
     "name": "stderr",
     "output_type": "stream",
     "text": [
      "\n",
      "[notice] A new release of pip is available: 23.2.1 -> 24.0\n",
      "[notice] To update, run: python.exe -m pip install --upgrade pip\n"
     ]
    },
    {
     "name": "stdout",
     "output_type": "stream",
     "text": [
      "Requirement already satisfied: pandas in c:\\users\\srisa\\desktop\\nlp project\\sentimentanalysis\\lib\\site-packages (2.2.2)\n",
      "Requirement already satisfied: numpy>=1.23.2 in c:\\users\\srisa\\desktop\\nlp project\\sentimentanalysis\\lib\\site-packages (from pandas) (1.26.4)\n",
      "Requirement already satisfied: python-dateutil>=2.8.2 in c:\\users\\srisa\\desktop\\nlp project\\sentimentanalysis\\lib\\site-packages (from pandas) (2.9.0.post0)\n",
      "Requirement already satisfied: pytz>=2020.1 in c:\\users\\srisa\\desktop\\nlp project\\sentimentanalysis\\lib\\site-packages (from pandas) (2024.1)\n",
      "Requirement already satisfied: tzdata>=2022.7 in c:\\users\\srisa\\desktop\\nlp project\\sentimentanalysis\\lib\\site-packages (from pandas) (2024.1)\n",
      "Requirement already satisfied: six>=1.5 in c:\\users\\srisa\\desktop\\nlp project\\sentimentanalysis\\lib\\site-packages (from python-dateutil>=2.8.2->pandas) (1.16.0)\n"
     ]
    },
    {
     "name": "stderr",
     "output_type": "stream",
     "text": [
      "\n",
      "[notice] A new release of pip is available: 23.2.1 -> 24.0\n",
      "[notice] To update, run: python.exe -m pip install --upgrade pip\n"
     ]
    },
    {
     "name": "stdout",
     "output_type": "stream",
     "text": [
      "Requirement already satisfied: matplotlib in c:\\users\\srisa\\desktop\\nlp project\\sentimentanalysis\\lib\\site-packages (3.9.0)\n",
      "Requirement already satisfied: contourpy>=1.0.1 in c:\\users\\srisa\\desktop\\nlp project\\sentimentanalysis\\lib\\site-packages (from matplotlib) (1.2.1)\n",
      "Requirement already satisfied: cycler>=0.10 in c:\\users\\srisa\\desktop\\nlp project\\sentimentanalysis\\lib\\site-packages (from matplotlib) (0.12.1)\n",
      "Requirement already satisfied: fonttools>=4.22.0 in c:\\users\\srisa\\desktop\\nlp project\\sentimentanalysis\\lib\\site-packages (from matplotlib) (4.53.0)\n",
      "Requirement already satisfied: kiwisolver>=1.3.1 in c:\\users\\srisa\\desktop\\nlp project\\sentimentanalysis\\lib\\site-packages (from matplotlib) (1.4.5)\n",
      "Requirement already satisfied: numpy>=1.23 in c:\\users\\srisa\\desktop\\nlp project\\sentimentanalysis\\lib\\site-packages (from matplotlib) (1.26.4)\n",
      "Requirement already satisfied: packaging>=20.0 in c:\\users\\srisa\\desktop\\nlp project\\sentimentanalysis\\lib\\site-packages (from matplotlib) (24.0)\n",
      "Requirement already satisfied: pillow>=8 in c:\\users\\srisa\\desktop\\nlp project\\sentimentanalysis\\lib\\site-packages (from matplotlib) (10.3.0)\n",
      "Requirement already satisfied: pyparsing>=2.3.1 in c:\\users\\srisa\\desktop\\nlp project\\sentimentanalysis\\lib\\site-packages (from matplotlib) (3.1.2)\n",
      "Requirement already satisfied: python-dateutil>=2.7 in c:\\users\\srisa\\desktop\\nlp project\\sentimentanalysis\\lib\\site-packages (from matplotlib) (2.9.0.post0)\n",
      "Requirement already satisfied: six>=1.5 in c:\\users\\srisa\\desktop\\nlp project\\sentimentanalysis\\lib\\site-packages (from python-dateutil>=2.7->matplotlib) (1.16.0)\n"
     ]
    },
    {
     "name": "stderr",
     "output_type": "stream",
     "text": [
      "\n",
      "[notice] A new release of pip is available: 23.2.1 -> 24.0\n",
      "[notice] To update, run: python.exe -m pip install --upgrade pip\n"
     ]
    },
    {
     "name": "stdout",
     "output_type": "stream",
     "text": [
      "Requirement already satisfied: seaborn in c:\\users\\srisa\\desktop\\nlp project\\sentimentanalysis\\lib\\site-packages (0.13.2)\n",
      "Requirement already satisfied: numpy!=1.24.0,>=1.20 in c:\\users\\srisa\\desktop\\nlp project\\sentimentanalysis\\lib\\site-packages (from seaborn) (1.26.4)\n",
      "Requirement already satisfied: pandas>=1.2 in c:\\users\\srisa\\desktop\\nlp project\\sentimentanalysis\\lib\\site-packages (from seaborn) (2.2.2)\n",
      "Requirement already satisfied: matplotlib!=3.6.1,>=3.4 in c:\\users\\srisa\\desktop\\nlp project\\sentimentanalysis\\lib\\site-packages (from seaborn) (3.9.0)\n",
      "Requirement already satisfied: contourpy>=1.0.1 in c:\\users\\srisa\\desktop\\nlp project\\sentimentanalysis\\lib\\site-packages (from matplotlib!=3.6.1,>=3.4->seaborn) (1.2.1)\n",
      "Requirement already satisfied: cycler>=0.10 in c:\\users\\srisa\\desktop\\nlp project\\sentimentanalysis\\lib\\site-packages (from matplotlib!=3.6.1,>=3.4->seaborn) (0.12.1)\n",
      "Requirement already satisfied: fonttools>=4.22.0 in c:\\users\\srisa\\desktop\\nlp project\\sentimentanalysis\\lib\\site-packages (from matplotlib!=3.6.1,>=3.4->seaborn) (4.53.0)\n",
      "Requirement already satisfied: kiwisolver>=1.3.1 in c:\\users\\srisa\\desktop\\nlp project\\sentimentanalysis\\lib\\site-packages (from matplotlib!=3.6.1,>=3.4->seaborn) (1.4.5)\n",
      "Requirement already satisfied: packaging>=20.0 in c:\\users\\srisa\\desktop\\nlp project\\sentimentanalysis\\lib\\site-packages (from matplotlib!=3.6.1,>=3.4->seaborn) (24.0)\n",
      "Requirement already satisfied: pillow>=8 in c:\\users\\srisa\\desktop\\nlp project\\sentimentanalysis\\lib\\site-packages (from matplotlib!=3.6.1,>=3.4->seaborn) (10.3.0)\n",
      "Requirement already satisfied: pyparsing>=2.3.1 in c:\\users\\srisa\\desktop\\nlp project\\sentimentanalysis\\lib\\site-packages (from matplotlib!=3.6.1,>=3.4->seaborn) (3.1.2)\n",
      "Requirement already satisfied: python-dateutil>=2.7 in c:\\users\\srisa\\desktop\\nlp project\\sentimentanalysis\\lib\\site-packages (from matplotlib!=3.6.1,>=3.4->seaborn) (2.9.0.post0)\n",
      "Requirement already satisfied: pytz>=2020.1 in c:\\users\\srisa\\desktop\\nlp project\\sentimentanalysis\\lib\\site-packages (from pandas>=1.2->seaborn) (2024.1)\n",
      "Requirement already satisfied: tzdata>=2022.7 in c:\\users\\srisa\\desktop\\nlp project\\sentimentanalysis\\lib\\site-packages (from pandas>=1.2->seaborn) (2024.1)\n",
      "Requirement already satisfied: six>=1.5 in c:\\users\\srisa\\desktop\\nlp project\\sentimentanalysis\\lib\\site-packages (from python-dateutil>=2.7->matplotlib!=3.6.1,>=3.4->seaborn) (1.16.0)\n"
     ]
    },
    {
     "name": "stderr",
     "output_type": "stream",
     "text": [
      "\n",
      "[notice] A new release of pip is available: 23.2.1 -> 24.0\n",
      "[notice] To update, run: python.exe -m pip install --upgrade pip\n"
     ]
    },
    {
     "name": "stdout",
     "output_type": "stream",
     "text": [
      "Requirement already satisfied: scikit-learn in c:\\users\\srisa\\desktop\\nlp project\\sentimentanalysis\\lib\\site-packages (1.5.0)\n",
      "Requirement already satisfied: numpy>=1.19.5 in c:\\users\\srisa\\desktop\\nlp project\\sentimentanalysis\\lib\\site-packages (from scikit-learn) (1.26.4)\n",
      "Requirement already satisfied: scipy>=1.6.0 in c:\\users\\srisa\\desktop\\nlp project\\sentimentanalysis\\lib\\site-packages (from scikit-learn) (1.13.1)\n",
      "Requirement already satisfied: joblib>=1.2.0 in c:\\users\\srisa\\desktop\\nlp project\\sentimentanalysis\\lib\\site-packages (from scikit-learn) (1.4.2)\n",
      "Requirement already satisfied: threadpoolctl>=3.1.0 in c:\\users\\srisa\\desktop\\nlp project\\sentimentanalysis\\lib\\site-packages (from scikit-learn) (3.5.0)\n"
     ]
    },
    {
     "name": "stderr",
     "output_type": "stream",
     "text": [
      "\n",
      "[notice] A new release of pip is available: 23.2.1 -> 24.0\n",
      "[notice] To update, run: python.exe -m pip install --upgrade pip\n"
     ]
    },
    {
     "name": "stdout",
     "output_type": "stream",
     "text": [
      "Requirement already satisfied: nltk in c:\\users\\srisa\\desktop\\nlp project\\sentimentanalysis\\lib\\site-packages (3.8.1)\n",
      "Requirement already satisfied: click in c:\\users\\srisa\\desktop\\nlp project\\sentimentanalysis\\lib\\site-packages (from nltk) (8.1.7)\n",
      "Requirement already satisfied: joblib in c:\\users\\srisa\\desktop\\nlp project\\sentimentanalysis\\lib\\site-packages (from nltk) (1.4.2)\n",
      "Requirement already satisfied: regex>=2021.8.3 in c:\\users\\srisa\\desktop\\nlp project\\sentimentanalysis\\lib\\site-packages (from nltk) (2024.5.15)\n",
      "Requirement already satisfied: tqdm in c:\\users\\srisa\\desktop\\nlp project\\sentimentanalysis\\lib\\site-packages (from nltk) (4.66.4)\n",
      "Requirement already satisfied: colorama in c:\\users\\srisa\\desktop\\nlp project\\sentimentanalysis\\lib\\site-packages (from click->nltk) (0.4.6)\n"
     ]
    },
    {
     "name": "stderr",
     "output_type": "stream",
     "text": [
      "\n",
      "[notice] A new release of pip is available: 23.2.1 -> 24.0\n",
      "[notice] To update, run: python.exe -m pip install --upgrade pip\n",
      "ERROR: Could not find a version that satisfies the requirement texblob (from versions: none)\n",
      "ERROR: No matching distribution found for texblob\n",
      "\n",
      "[notice] A new release of pip is available: 23.2.1 -> 24.0\n",
      "[notice] To update, run: python.exe -m pip install --upgrade pip\n"
     ]
    },
    {
     "name": "stdout",
     "output_type": "stream",
     "text": [
      "Requirement already satisfied: pandas in c:\\users\\srisa\\desktop\\nlp project\\sentimentanalysis\\lib\\site-packages (2.2.2)\n",
      "Requirement already satisfied: emoji in c:\\users\\srisa\\desktop\\nlp project\\sentimentanalysis\\lib\\site-packages (2.12.1)\n",
      "Requirement already satisfied: numpy>=1.23.2 in c:\\users\\srisa\\desktop\\nlp project\\sentimentanalysis\\lib\\site-packages (from pandas) (1.26.4)\n",
      "Requirement already satisfied: python-dateutil>=2.8.2 in c:\\users\\srisa\\desktop\\nlp project\\sentimentanalysis\\lib\\site-packages (from pandas) (2.9.0.post0)\n",
      "Requirement already satisfied: pytz>=2020.1 in c:\\users\\srisa\\desktop\\nlp project\\sentimentanalysis\\lib\\site-packages (from pandas) (2024.1)\n",
      "Requirement already satisfied: tzdata>=2022.7 in c:\\users\\srisa\\desktop\\nlp project\\sentimentanalysis\\lib\\site-packages (from pandas) (2024.1)\n",
      "Requirement already satisfied: typing-extensions>=4.7.0 in c:\\users\\srisa\\desktop\\nlp project\\sentimentanalysis\\lib\\site-packages (from emoji) (4.12.1)\n",
      "Requirement already satisfied: six>=1.5 in c:\\users\\srisa\\desktop\\nlp project\\sentimentanalysis\\lib\\site-packages (from python-dateutil>=2.8.2->pandas) (1.16.0)\n"
     ]
    },
    {
     "name": "stderr",
     "output_type": "stream",
     "text": [
      "\n",
      "[notice] A new release of pip is available: 23.2.1 -> 24.0\n",
      "[notice] To update, run: python.exe -m pip install --upgrade pip\n"
     ]
    },
    {
     "name": "stdout",
     "output_type": "stream",
     "text": [
      "Requirement already satisfied: emot in c:\\users\\srisa\\desktop\\nlp project\\sentimentanalysis\\lib\\site-packages (3.1)\n"
     ]
    },
    {
     "name": "stderr",
     "output_type": "stream",
     "text": [
      "\n",
      "[notice] A new release of pip is available: 23.2.1 -> 24.0\n",
      "[notice] To update, run: python.exe -m pip install --upgrade pip\n"
     ]
    }
   ],
   "source": [
    "!pip install numpy\n",
    "!pip install pandas\n",
    "!pip install matplotlib\n",
    "!pip install seaborn\n",
    "!pip install scikit-learn\n",
    "!pip install nltk\n",
    "!pip install texblob\n",
    "!pip install pandas emoji\n",
    "!pip install emot"
   ]
  },
  {
   "cell_type": "code",
   "execution_count": 71,
   "id": "1fc19188-a89e-454d-aef0-0b1641fd44a7",
   "metadata": {},
   "outputs": [],
   "source": [
    "import numpy as np\n",
    "import pandas as pd\n",
    "import matplotlib.pyplot as plt"
   ]
  },
  {
   "cell_type": "code",
   "execution_count": 72,
   "id": "68b8a16c-da09-4c2b-96ab-ce31ae87e529",
   "metadata": {},
   "outputs": [
    {
     "name": "stderr",
     "output_type": "stream",
     "text": [
      "[nltk_data] Downloading package punkt to\n",
      "[nltk_data]     C:\\Users\\srisa\\AppData\\Roaming\\nltk_data...\n",
      "[nltk_data]   Package punkt is already up-to-date!\n",
      "[nltk_data] Downloading package stopwords to\n",
      "[nltk_data]     C:\\Users\\srisa\\AppData\\Roaming\\nltk_data...\n",
      "[nltk_data]   Package stopwords is already up-to-date!\n",
      "[nltk_data] Downloading package wordnet to\n",
      "[nltk_data]     C:\\Users\\srisa\\AppData\\Roaming\\nltk_data...\n",
      "[nltk_data]   Package wordnet is already up-to-date!\n"
     ]
    }
   ],
   "source": [
    "import string\n",
    "import re\n",
    "import nltk\n",
    "import nltk.corpus\n",
    "nltk.download(\"punkt\")\n",
    "nltk.download(\"stopwords\")\n",
    "nltk.download(\"wordnet\")\n",
    "from nltk.stem import WordNetLemmatizer"
   ]
  },
  {
   "cell_type": "code",
   "execution_count": 73,
   "id": "72589c78-16a3-4858-9d4f-e95359dc5a96",
   "metadata": {},
   "outputs": [],
   "source": [
    "data=pd.read_csv(\"zomato_reviews.csv\")"
   ]
  },
  {
   "cell_type": "code",
   "execution_count": 74,
   "id": "90e4f34f-27fc-4793-afe1-e9ad1185aff9",
   "metadata": {},
   "outputs": [
    {
     "data": {
      "text/html": [
       "<div>\n",
       "<style scoped>\n",
       "    .dataframe tbody tr th:only-of-type {\n",
       "        vertical-align: middle;\n",
       "    }\n",
       "\n",
       "    .dataframe tbody tr th {\n",
       "        vertical-align: top;\n",
       "    }\n",
       "\n",
       "    .dataframe thead th {\n",
       "        text-align: right;\n",
       "    }\n",
       "</style>\n",
       "<table border=\"1\" class=\"dataframe\">\n",
       "  <thead>\n",
       "    <tr style=\"text-align: right;\">\n",
       "      <th></th>\n",
       "      <th>Unnamed: 0</th>\n",
       "      <th>rating</th>\n",
       "      <th>review</th>\n",
       "    </tr>\n",
       "  </thead>\n",
       "  <tbody>\n",
       "    <tr>\n",
       "      <th>0</th>\n",
       "      <td>0</td>\n",
       "      <td>5</td>\n",
       "      <td>nice</td>\n",
       "    </tr>\n",
       "    <tr>\n",
       "      <th>1</th>\n",
       "      <td>1</td>\n",
       "      <td>5</td>\n",
       "      <td>best biryani , so supportive staff of outlet ,...</td>\n",
       "    </tr>\n",
       "    <tr>\n",
       "      <th>2</th>\n",
       "      <td>2</td>\n",
       "      <td>4</td>\n",
       "      <td>delivery boy was very decent and supportive.👌👍</td>\n",
       "    </tr>\n",
       "    <tr>\n",
       "      <th>3</th>\n",
       "      <td>3</td>\n",
       "      <td>1</td>\n",
       "      <td>worst biryani i have tasted in my life, half o...</td>\n",
       "    </tr>\n",
       "    <tr>\n",
       "      <th>4</th>\n",
       "      <td>4</td>\n",
       "      <td>5</td>\n",
       "      <td>all food is good and tasty . will order again ...</td>\n",
       "    </tr>\n",
       "  </tbody>\n",
       "</table>\n",
       "</div>"
      ],
      "text/plain": [
       "   Unnamed: 0  rating                                             review\n",
       "0           0       5                                               nice\n",
       "1           1       5  best biryani , so supportive staff of outlet ,...\n",
       "2           2       4     delivery boy was very decent and supportive.👌👍\n",
       "3           3       1  worst biryani i have tasted in my life, half o...\n",
       "4           4       5  all food is good and tasty . will order again ..."
      ]
     },
     "execution_count": 74,
     "metadata": {},
     "output_type": "execute_result"
    }
   ],
   "source": [
    "data.head()"
   ]
  },
  {
   "cell_type": "code",
   "execution_count": 75,
   "id": "622984a3-f643-45f3-ae64-29ae33594d8d",
   "metadata": {},
   "outputs": [],
   "source": [
    "data.drop(\"Unnamed: 0\",axis=1,inplace=True)"
   ]
  },
  {
   "cell_type": "code",
   "execution_count": 76,
   "id": "2a202de5-7544-4652-b15a-1511822ebecc",
   "metadata": {},
   "outputs": [
    {
     "data": {
      "text/plain": [
       "(5479, 2)"
      ]
     },
     "execution_count": 76,
     "metadata": {},
     "output_type": "execute_result"
    }
   ],
   "source": [
    "data.shape"
   ]
  },
  {
   "cell_type": "code",
   "execution_count": 77,
   "id": "c6dfb683-9819-4979-8626-bbc7bdefecd2",
   "metadata": {},
   "outputs": [
    {
     "data": {
      "text/plain": [
       "rating    0\n",
       "review    1\n",
       "dtype: int64"
      ]
     },
     "execution_count": 77,
     "metadata": {},
     "output_type": "execute_result"
    }
   ],
   "source": [
    "data.isnull().sum()"
   ]
  },
  {
   "cell_type": "code",
   "execution_count": 78,
   "id": "d3be49de-c4e6-437e-8160-09a78a9b2801",
   "metadata": {},
   "outputs": [],
   "source": [
    "data=data.dropna()"
   ]
  },
  {
   "cell_type": "code",
   "execution_count": 79,
   "id": "369f8dbb-a3e3-4e7e-bc9c-b25f382d8a52",
   "metadata": {},
   "outputs": [
    {
     "data": {
      "text/plain": [
       "rating    0\n",
       "review    0\n",
       "dtype: int64"
      ]
     },
     "execution_count": 79,
     "metadata": {},
     "output_type": "execute_result"
    }
   ],
   "source": [
    "data.isnull().sum()"
   ]
  },
  {
   "cell_type": "code",
   "execution_count": 80,
   "id": "9e40bb30-d537-4611-b91e-9317999ee608",
   "metadata": {},
   "outputs": [
    {
     "data": {
      "text/plain": [
       "array([5, 4, 1, 3, 2], dtype=int64)"
      ]
     },
     "execution_count": 80,
     "metadata": {},
     "output_type": "execute_result"
    }
   ],
   "source": [
    "data[\"rating\"].unique()"
   ]
  },
  {
   "cell_type": "code",
   "execution_count": 81,
   "id": "1c92096c-40af-45f9-a577-e49ef944fc91",
   "metadata": {},
   "outputs": [],
   "source": [
    "rating_counts=data['rating'].value_counts().sort_index()"
   ]
  },
  {
   "cell_type": "code",
   "execution_count": 82,
   "id": "3903dcb7-3fb6-4ff1-a122-bff63e5a039b",
   "metadata": {},
   "outputs": [
    {
     "data": {
      "text/plain": [
       "rating\n",
       "1    1891\n",
       "2     368\n",
       "3     474\n",
       "4     457\n",
       "5    2288\n",
       "Name: count, dtype: int64"
      ]
     },
     "execution_count": 82,
     "metadata": {},
     "output_type": "execute_result"
    }
   ],
   "source": [
    "rating_counts"
   ]
  },
  {
   "cell_type": "code",
   "execution_count": 83,
   "id": "5aff4ae0-cd34-4b03-86de-f2b9c4fea491",
   "metadata": {},
   "outputs": [],
   "source": [
    "my_labels=[f'Rating{i}'for i in rating_counts.index]\n",
    "values=rating_counts.values"
   ]
  },
  {
   "cell_type": "code",
   "execution_count": 84,
   "id": "d18a68ef-25de-4843-afa4-9f2ecb2f8ba6",
   "metadata": {},
   "outputs": [
    {
     "data": {
      "text/plain": [
       "array([1891,  368,  474,  457, 2288], dtype=int64)"
      ]
     },
     "execution_count": 84,
     "metadata": {},
     "output_type": "execute_result"
    }
   ],
   "source": [
    "values"
   ]
  },
  {
   "cell_type": "code",
   "execution_count": 85,
   "id": "a5f7a169-882c-42d5-abe2-c3d644965505",
   "metadata": {},
   "outputs": [
    {
     "data": {
      "image/png": "[encoded data removed]",
      "text/plain": [
       "<Figure size 1000x600 with 1 Axes>"
      ]
     },
     "metadata": {},
     "output_type": "display_data"
    }
   ],
   "source": [
    "plt.figure(figsize=(10,6))\n",
    "plt.pie(values,labels=my_labels,autopct='%1.1f%%',shadow=True)\n",
    "plt.legend()\n",
    "plt.title(\"Distribution of Ratings\")\n",
    "plt.show()"
   ]
  },
  {
   "cell_type": "code",
   "execution_count": 97,
   "id": "29668aca-de29-4bbe-96dc-1173e4c04df7",
   "metadata": {},
   "outputs": [],
   "source": [
    "import emoji"
   ]
  },
  {
   "cell_type": "code",
   "execution_count": 98,
   "id": "e358329e-d5e7-4411-98c0-fa77126814a9",
   "metadata": {},
   "outputs": [],
   "source": [
    "def remove_emojis(text):\n",
    "    return emoji.replace_emoji(text, replace='')\n",
    "    \n",
    "def remove_emoticons(text):\n",
    "    emoticon_pattern = r'(?::|;|=)(?:-)?(?:\\)|\\(|D|P)'\n",
    "    return re.sub(emoticon_pattern, '', text)"
   ]
  },
  {
   "cell_type": "code",
   "execution_count": 102,
   "id": "75ccf6fa-f417-464e-8b01-cb45e063ae1f",
   "metadata": {},
   "outputs": [],
   "source": [
    "def get_wordnet_pos(pos_tag):\n",
    "    if pos_tag.startswith('J'):\n",
    "        return wordnet.ADJ\n",
    "    elif pos_tag.startswith('V'):\n",
    "        return wordnet.VERB\n",
    "    elif pos_tag.startswith('N'):\n",
    "        return wordnet.NOUN\n",
    "    elif pos_tag.startswith('R'):\n",
    "        return wordnet.ADV\n",
    "    else:\n",
    "        return wordnet.NOUN"
   ]
  },
  {
   "cell_type": "code",
   "execution_count": 104,
   "id": "5fc81f33-35df-4684-87fc-47768144bc08",
   "metadata": {},
   "outputs": [],
   "source": [
    "def Text_Cleaning(Text):\n",
    "    Text = Text.lower() \n",
    "    # Remove punctuation\n",
    "    punc = str.maketrans(string.punctuation, ' ' * len(string.punctuation))\n",
    "    Text = Text.translate(punc)\n",
    "    # Remove digits\n",
    "    Text = re.sub(r'\\d', '', Text) \n",
    "    # Remove URLs\n",
    "    Text = re.sub('https?://\\S+|www\\.\\S+', '', Text) \n",
    "    # Remove newline characters\n",
    "    Text = re.sub('\\n', '', Text)\n",
    "    # Remove emojis\n",
    "    Text = remove_emojis(Text)\n",
    "    # Remove emoticons\n",
    "    Text = remove_emoticons(Text)\n",
    "    \n",
    "    return Text\n",
    "\n"
   ]
  },
  {
   "cell_type": "code",
   "execution_count": 105,
   "id": "5f3b529f-f01c-4d25-a115-4344e26b87cc",
   "metadata": {},
   "outputs": [],
   "source": [
    "data['Cleaned_Review'] = data['review'].apply(Text_Cleaning)"
   ]
  },
  {
   "cell_type": "code",
   "execution_count": 106,
   "id": "236b65f1-b502-4bff-b762-4af6e94ad5bf",
   "metadata": {},
   "outputs": [
    {
     "data": {
      "text/html": [
       "<div>\n",
       "<style scoped>\n",
       "    .dataframe tbody tr th:only-of-type {\n",
       "        vertical-align: middle;\n",
       "    }\n",
       "\n",
       "    .dataframe tbody tr th {\n",
       "        vertical-align: top;\n",
       "    }\n",
       "\n",
       "    .dataframe thead th {\n",
       "        text-align: right;\n",
       "    }\n",
       "</style>\n",
       "<table border=\"1\" class=\"dataframe\">\n",
       "  <thead>\n",
       "    <tr style=\"text-align: right;\">\n",
       "      <th></th>\n",
       "      <th>rating</th>\n",
       "      <th>review</th>\n",
       "      <th>Cleaned_Review</th>\n",
       "    </tr>\n",
       "  </thead>\n",
       "  <tbody>\n",
       "    <tr>\n",
       "      <th>0</th>\n",
       "      <td>5</td>\n",
       "      <td>nice</td>\n",
       "      <td>nice</td>\n",
       "    </tr>\n",
       "    <tr>\n",
       "      <th>1</th>\n",
       "      <td>5</td>\n",
       "      <td>best biryani , so supportive staff of outlet ,...</td>\n",
       "      <td>best biryani   so supportive staff of outlet  ...</td>\n",
       "    </tr>\n",
       "    <tr>\n",
       "      <th>2</th>\n",
       "      <td>4</td>\n",
       "      <td>delivery boy was very decent and supportive.👌👍</td>\n",
       "      <td>delivery boy was very decent and supportive</td>\n",
       "    </tr>\n",
       "    <tr>\n",
       "      <th>3</th>\n",
       "      <td>1</td>\n",
       "      <td>worst biryani i have tasted in my life, half o...</td>\n",
       "      <td>worst biryani i have tasted in my life  half o...</td>\n",
       "    </tr>\n",
       "    <tr>\n",
       "      <th>4</th>\n",
       "      <td>5</td>\n",
       "      <td>all food is good and tasty . will order again ...</td>\n",
       "      <td>all food is good and tasty   will order again ...</td>\n",
       "    </tr>\n",
       "  </tbody>\n",
       "</table>\n",
       "</div>"
      ],
      "text/plain": [
       "   rating                                             review  \\\n",
       "0       5                                               nice   \n",
       "1       5  best biryani , so supportive staff of outlet ,...   \n",
       "2       4     delivery boy was very decent and supportive.👌👍   \n",
       "3       1  worst biryani i have tasted in my life, half o...   \n",
       "4       5  all food is good and tasty . will order again ...   \n",
       "\n",
       "                                      Cleaned_Review  \n",
       "0                                               nice  \n",
       "1  best biryani   so supportive staff of outlet  ...  \n",
       "2       delivery boy was very decent and supportive   \n",
       "3  worst biryani i have tasted in my life  half o...  \n",
       "4  all food is good and tasty   will order again ...  "
      ]
     },
     "execution_count": 106,
     "metadata": {},
     "output_type": "execute_result"
    }
   ],
   "source": [
    "data.head()"
   ]
  },
  {
   "cell_type": "code",
   "execution_count": 107,
   "id": "ba4a4915-b173-4e18-807c-0ff31ea2af24",
   "metadata": {},
   "outputs": [],
   "source": [
    "def Labelling(Rows):\n",
    "    if(Rows[\"rating\"]>3.0):\n",
    "        Label=\"Positive\"\n",
    "    elif(Rows[\"rating\"]<3.0):\n",
    "        Label=\"Negative\"\n",
    "    else:\n",
    "        Label=\"Neutral\"\n",
    "    return Label    \n",
    "data[\"sentiment\"]=data.apply(Labelling,axis=1)"
   ]
  },
  {
   "cell_type": "code",
   "execution_count": 108,
   "id": "c17699f8-549f-4e8b-ad94-89b9e3f8a560",
   "metadata": {},
   "outputs": [
    {
     "data": {
      "text/html": [
       "<div>\n",
       "<style scoped>\n",
       "    .dataframe tbody tr th:only-of-type {\n",
       "        vertical-align: middle;\n",
       "    }\n",
       "\n",
       "    .dataframe tbody tr th {\n",
       "        vertical-align: top;\n",
       "    }\n",
       "\n",
       "    .dataframe thead th {\n",
       "        text-align: right;\n",
       "    }\n",
       "</style>\n",
       "<table border=\"1\" class=\"dataframe\">\n",
       "  <thead>\n",
       "    <tr style=\"text-align: right;\">\n",
       "      <th></th>\n",
       "      <th>rating</th>\n",
       "      <th>review</th>\n",
       "      <th>Cleaned_Review</th>\n",
       "      <th>sentiment</th>\n",
       "    </tr>\n",
       "  </thead>\n",
       "  <tbody>\n",
       "    <tr>\n",
       "      <th>0</th>\n",
       "      <td>5</td>\n",
       "      <td>nice</td>\n",
       "      <td>nice</td>\n",
       "      <td>Positive</td>\n",
       "    </tr>\n",
       "    <tr>\n",
       "      <th>1</th>\n",
       "      <td>5</td>\n",
       "      <td>best biryani , so supportive staff of outlet ,...</td>\n",
       "      <td>best biryani   so supportive staff of outlet  ...</td>\n",
       "      <td>Positive</td>\n",
       "    </tr>\n",
       "    <tr>\n",
       "      <th>2</th>\n",
       "      <td>4</td>\n",
       "      <td>delivery boy was very decent and supportive.👌👍</td>\n",
       "      <td>delivery boy was very decent and supportive</td>\n",
       "      <td>Positive</td>\n",
       "    </tr>\n",
       "    <tr>\n",
       "      <th>3</th>\n",
       "      <td>1</td>\n",
       "      <td>worst biryani i have tasted in my life, half o...</td>\n",
       "      <td>worst biryani i have tasted in my life  half o...</td>\n",
       "      <td>Negative</td>\n",
       "    </tr>\n",
       "    <tr>\n",
       "      <th>4</th>\n",
       "      <td>5</td>\n",
       "      <td>all food is good and tasty . will order again ...</td>\n",
       "      <td>all food is good and tasty   will order again ...</td>\n",
       "      <td>Positive</td>\n",
       "    </tr>\n",
       "  </tbody>\n",
       "</table>\n",
       "</div>"
      ],
      "text/plain": [
       "   rating                                             review  \\\n",
       "0       5                                               nice   \n",
       "1       5  best biryani , so supportive staff of outlet ,...   \n",
       "2       4     delivery boy was very decent and supportive.👌👍   \n",
       "3       1  worst biryani i have tasted in my life, half o...   \n",
       "4       5  all food is good and tasty . will order again ...   \n",
       "\n",
       "                                      Cleaned_Review sentiment  \n",
       "0                                               nice  Positive  \n",
       "1  best biryani   so supportive staff of outlet  ...  Positive  \n",
       "2       delivery boy was very decent and supportive   Positive  \n",
       "3  worst biryani i have tasted in my life  half o...  Negative  \n",
       "4  all food is good and tasty   will order again ...  Positive  "
      ]
     },
     "execution_count": 108,
     "metadata": {},
     "output_type": "execute_result"
    }
   ],
   "source": [
    "data.head()"
   ]
  },
  {
   "cell_type": "code",
   "execution_count": 109,
   "id": "0f057dfb-fb4c-4515-af66-c4b276afe009",
   "metadata": {},
   "outputs": [],
   "source": [
    "sentiment_counts=data[\"sentiment\"].value_counts()"
   ]
  },
  {
   "cell_type": "code",
   "execution_count": 110,
   "id": "63267440-20f5-44fc-8c8d-3049e008bfd0",
   "metadata": {},
   "outputs": [
    {
     "data": {
      "image/png": "[encoded data removed]",
      "text/plain": [
       "<Figure size 1000x600 with 1 Axes>"
      ]
     },
     "metadata": {},
     "output_type": "display_data"
    }
   ],
   "source": [
    "plt.figure(figsize=(10,6))\n",
    "plt.bar(sentiment_counts.index,sentiment_counts.values,color=\"indigo\")\n",
    "plt.title(\"Distribution of Sentiments Based on Rating\")\n",
    "plt.xlabel(\"Sentiments\")\n",
    "plt.ylabel(\"Count\")\n",
    "plt.show()"
   ]
  },
  {
   "cell_type": "code",
   "execution_count": null,
   "id": "301568aa-e1fe-4871-9e49-72961e0030b6",
   "metadata": {},
   "outputs": [],
   "source": []
  }
 ],
 "metadata": {
  "kernelspec": {
   "display_name": "venvsentimentanalysis",
   "language": "python",
   "name": "venvsentimentanalysis"
  },
  "language_info": {
   "codemirror_mode": {
    "name": "ipython",
    "version": 3
   },
   "file_extension": ".py",
   "mimetype": "text/x-python",
   "name": "python",
   "nbconvert_exporter": "python",
   "pygments_lexer": "ipython3",
   "version": "3.11.7"
  }
 },
 "nbformat": 4,
 "nbformat_minor": 5
}
